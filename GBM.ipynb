{
 "cells": [
  {
   "cell_type": "code",
   "execution_count": 26,
   "id": "5b54275b",
   "metadata": {},
   "outputs": [],
   "source": [
    "import numpy as np\n",
    "import pandas as pd\n",
    "\n",
    "import matplotlib.pyplot as plt\n",
    "plt.style.use('fivethirtyeight')\n",
    "plt.rcParams['lines.linewidth'] = 1.5\n",
    "plt.rcParams['font.size'] = 8\n",
    "\n",
    "\n",
    "import sklearn\n",
    "from sklearn.ensemble import HistGradientBoostingRegressor\n",
    "from sklearn.metrics import mean_squared_error, r2_score\n",
    "from sklearn.model_selection import cross_val_score\n",
    "from sklearn.model_selection import RepeatedKFold\n",
    "from sklearn.model_selection import GridSearchCV\n",
    "from sklearn.model_selection import ParameterGrid\n",
    "from sklearn.inspection import permutation_importance\n",
    "import multiprocessing\n"
   ]
  },
  {
   "cell_type": "markdown",
   "id": "8f0fef1b",
   "metadata": {},
   "source": [
    "# Tratamiento de datos"
   ]
  },
  {
   "cell_type": "code",
   "execution_count": 3,
   "id": "1201e8b3",
   "metadata": {},
   "outputs": [
    {
     "data": {
      "text/html": [
       "<div>\n",
       "<style scoped>\n",
       "    .dataframe tbody tr th:only-of-type {\n",
       "        vertical-align: middle;\n",
       "    }\n",
       "\n",
       "    .dataframe tbody tr th {\n",
       "        vertical-align: top;\n",
       "    }\n",
       "\n",
       "    .dataframe thead th {\n",
       "        text-align: right;\n",
       "    }\n",
       "</style>\n",
       "<table border=\"1\" class=\"dataframe\">\n",
       "  <thead>\n",
       "    <tr style=\"text-align: right;\">\n",
       "      <th></th>\n",
       "      <th>POPULATION</th>\n",
       "      <th>x5</th>\n",
       "      <th>x10</th>\n",
       "      <th>x1</th>\n",
       "      <th>x2</th>\n",
       "      <th>x9</th>\n",
       "      <th>x3</th>\n",
       "      <th>x11</th>\n",
       "      <th>x4</th>\n",
       "      <th>x6</th>\n",
       "      <th>x7</th>\n",
       "      <th>x8</th>\n",
       "      <th>x12</th>\n",
       "      <th>x14</th>\n",
       "    </tr>\n",
       "  </thead>\n",
       "  <tbody>\n",
       "    <tr>\n",
       "      <th>0</th>\n",
       "      <td>TRAIN</td>\n",
       "      <td>710 to 718_0</td>\n",
       "      <td>150 to 1E15_0</td>\n",
       "      <td>60000 to 1E15_0</td>\n",
       "      <td>0.35 to 0.7_1</td>\n",
       "      <td>-1E15 to 1_0</td>\n",
       "      <td>50 to 75_0</td>\n",
       "      <td>1 to 1E15_0</td>\n",
       "      <td>-1E15 to 111_1</td>\n",
       "      <td>0.0</td>\n",
       "      <td>1.0</td>\n",
       "      <td>0.0</td>\n",
       "      <td>0</td>\n",
       "      <td>5.094849</td>\n",
       "    </tr>\n",
       "    <tr>\n",
       "      <th>1</th>\n",
       "      <td>TEST</td>\n",
       "      <td>627 to 710_0</td>\n",
       "      <td>150 to 1E15_0</td>\n",
       "      <td>60000 to 1E15_0</td>\n",
       "      <td>0.35 to 0.7_1</td>\n",
       "      <td>1 to 1E15_0</td>\n",
       "      <td>50 to 75_0</td>\n",
       "      <td>1 to 1E15_0</td>\n",
       "      <td>-1E15 to 111_1</td>\n",
       "      <td>0.0</td>\n",
       "      <td>1.0</td>\n",
       "      <td>0.0</td>\n",
       "      <td>1</td>\n",
       "      <td>5.106910</td>\n",
       "    </tr>\n",
       "    <tr>\n",
       "      <th>2</th>\n",
       "      <td>TRAIN</td>\n",
       "      <td>627 to 710_0</td>\n",
       "      <td>150 to 1E15_0</td>\n",
       "      <td>60000 to 1E15_0</td>\n",
       "      <td>0.35 to 0.7_1</td>\n",
       "      <td>1 to 1E15_0</td>\n",
       "      <td>50 to 75_0</td>\n",
       "      <td>1 to 1E15_0</td>\n",
       "      <td>-1E15 to 111_1</td>\n",
       "      <td>0.0</td>\n",
       "      <td>1.0</td>\n",
       "      <td>0.0</td>\n",
       "      <td>1</td>\n",
       "      <td>5.106944</td>\n",
       "    </tr>\n",
       "    <tr>\n",
       "      <th>3</th>\n",
       "      <td>TRAIN</td>\n",
       "      <td>627 to 710_0</td>\n",
       "      <td>-2100 to 150_0</td>\n",
       "      <td>60000 to 1E15_0</td>\n",
       "      <td>0.35 to 0.7_1</td>\n",
       "      <td>-1E15 to 1_0</td>\n",
       "      <td>50 to 75_0</td>\n",
       "      <td>-1E15 to 1_1</td>\n",
       "      <td>-1E15 to 111_1</td>\n",
       "      <td>0.0</td>\n",
       "      <td>1.0</td>\n",
       "      <td>0.0</td>\n",
       "      <td>1</td>\n",
       "      <td>5.269766</td>\n",
       "    </tr>\n",
       "    <tr>\n",
       "      <th>4</th>\n",
       "      <td>TEST</td>\n",
       "      <td>729 to 733_0</td>\n",
       "      <td>-2100 to 150_0</td>\n",
       "      <td>60000 to 1E15_0</td>\n",
       "      <td>0.7 to 0.9_0</td>\n",
       "      <td>-1E15 to 1_0</td>\n",
       "      <td>80 to 1E15_1</td>\n",
       "      <td>-1E15 to 1_1</td>\n",
       "      <td>-1E15 to 111_1</td>\n",
       "      <td>0.0</td>\n",
       "      <td>1.0</td>\n",
       "      <td>0.0</td>\n",
       "      <td>0</td>\n",
       "      <td>5.075245</td>\n",
       "    </tr>\n",
       "  </tbody>\n",
       "</table>\n",
       "</div>"
      ],
      "text/plain": [
       "  POPULATION            x5             x10               x1             x2  \\\n",
       "0      TRAIN  710 to 718_0   150 to 1E15_0  60000 to 1E15_0  0.35 to 0.7_1   \n",
       "1       TEST  627 to 710_0   150 to 1E15_0  60000 to 1E15_0  0.35 to 0.7_1   \n",
       "2      TRAIN  627 to 710_0   150 to 1E15_0  60000 to 1E15_0  0.35 to 0.7_1   \n",
       "3      TRAIN  627 to 710_0  -2100 to 150_0  60000 to 1E15_0  0.35 to 0.7_1   \n",
       "4       TEST  729 to 733_0  -2100 to 150_0  60000 to 1E15_0   0.7 to 0.9_0   \n",
       "\n",
       "             x9            x3           x11              x4   x6   x7   x8  \\\n",
       "0  -1E15 to 1_0    50 to 75_0   1 to 1E15_0  -1E15 to 111_1  0.0  1.0  0.0   \n",
       "1   1 to 1E15_0    50 to 75_0   1 to 1E15_0  -1E15 to 111_1  0.0  1.0  0.0   \n",
       "2   1 to 1E15_0    50 to 75_0   1 to 1E15_0  -1E15 to 111_1  0.0  1.0  0.0   \n",
       "3  -1E15 to 1_0    50 to 75_0  -1E15 to 1_1  -1E15 to 111_1  0.0  1.0  0.0   \n",
       "4  -1E15 to 1_0  80 to 1E15_1  -1E15 to 1_1  -1E15 to 111_1  0.0  1.0  0.0   \n",
       "\n",
       "   x12       x14  \n",
       "0    0  5.094849  \n",
       "1    1  5.106910  \n",
       "2    1  5.106944  \n",
       "3    1  5.269766  \n",
       "4    0  5.075245  "
      ]
     },
     "execution_count": 3,
     "metadata": {},
     "output_type": "execute_result"
    }
   ],
   "source": [
    "import pandas as pd\n",
    "df = pd.read_excel(\"Tabla TFG Maria v2.xlsx\")\n",
    "df.head()"
   ]
  },
  {
   "cell_type": "code",
   "execution_count": 4,
   "id": "b5b024b5",
   "metadata": {},
   "outputs": [],
   "source": [
    "# Filtramos los datos en función de la columna \"Population\"\n",
    "df_train = df[df[\"POPULATION\"] == \"TRAIN\"]\n",
    "df_test = df[df[\"POPULATION\"] == \"TEST\"]"
   ]
  },
  {
   "cell_type": "code",
   "execution_count": 5,
   "id": "5c42669f",
   "metadata": {},
   "outputs": [
    {
     "name": "stdout",
     "output_type": "stream",
     "text": [
      "<class 'pandas.core.frame.DataFrame'>\n",
      "Int64Index: 15470 entries, 0 to 22092\n",
      "Data columns (total 14 columns):\n",
      " #   Column      Non-Null Count  Dtype  \n",
      "---  ------      --------------  -----  \n",
      " 0   POPULATION  15470 non-null  object \n",
      " 1   x5          15470 non-null  object \n",
      " 2   x10         15470 non-null  object \n",
      " 3   x1          15470 non-null  object \n",
      " 4   x2          15470 non-null  object \n",
      " 5   x9          15470 non-null  object \n",
      " 6   x3          15470 non-null  object \n",
      " 7   x11         15470 non-null  object \n",
      " 8   x4          15470 non-null  object \n",
      " 9   x6          15465 non-null  float64\n",
      " 10  x7          15237 non-null  float64\n",
      " 11  x8          15465 non-null  float64\n",
      " 12  x12         15470 non-null  int64  \n",
      " 13  x14         15470 non-null  float64\n",
      "dtypes: float64(4), int64(1), object(9)\n",
      "memory usage: 1.8+ MB\n",
      "None\n",
      "<class 'pandas.core.frame.DataFrame'>\n",
      "Int64Index: 6623 entries, 1 to 22091\n",
      "Data columns (total 14 columns):\n",
      " #   Column      Non-Null Count  Dtype  \n",
      "---  ------      --------------  -----  \n",
      " 0   POPULATION  6623 non-null   object \n",
      " 1   x5          6623 non-null   object \n",
      " 2   x10         6623 non-null   object \n",
      " 3   x1          6623 non-null   object \n",
      " 4   x2          6623 non-null   object \n",
      " 5   x9          6623 non-null   object \n",
      " 6   x3          6623 non-null   object \n",
      " 7   x11         6623 non-null   object \n",
      " 8   x4          6623 non-null   object \n",
      " 9   x6          6621 non-null   float64\n",
      " 10  x7          6535 non-null   float64\n",
      " 11  x8          6621 non-null   float64\n",
      " 12  x12         6623 non-null   int64  \n",
      " 13  x14         6623 non-null   float64\n",
      "dtypes: float64(4), int64(1), object(9)\n",
      "memory usage: 776.1+ KB\n",
      "None\n"
     ]
    }
   ],
   "source": [
    "print(df_train.info())\n",
    "print(df_test.info())"
   ]
  },
  {
   "cell_type": "code",
   "execution_count": 6,
   "id": "5f464e60",
   "metadata": {},
   "outputs": [],
   "source": [
    "#Eliminamos missing\n",
    "df_train = df_train.dropna()\n",
    "df_test = df_test.dropna()"
   ]
  },
  {
   "cell_type": "markdown",
   "id": "61447d61",
   "metadata": {},
   "source": [
    "## Creción dummies y variables numéricas"
   ]
  },
  {
   "cell_type": "code",
   "execution_count": 7,
   "id": "69506d0c",
   "metadata": {},
   "outputs": [],
   "source": [
    "dummies_train = pd.get_dummies(df_train[['x5', 'x10', 'x1', 'x2', 'x9', 'x3', 'x11', 'x4']])\n",
    "dummies_test = pd.get_dummies(df_test[['x5', 'x10', 'x1', 'x2', 'x9', 'x3', 'x11', 'x4']])"
   ]
  },
  {
   "cell_type": "code",
   "execution_count": 8,
   "id": "41fb09a9",
   "metadata": {},
   "outputs": [
    {
     "name": "stdout",
     "output_type": "stream",
     "text": [
      "<class 'pandas.core.frame.DataFrame'>\n",
      "Int64Index: 15237 entries, 0 to 22092\n",
      "Data columns (total 35 columns):\n",
      " #   Column                Non-Null Count  Dtype\n",
      "---  ------                --------------  -----\n",
      " 0   x5_-1E15 to 627_0     15237 non-null  uint8\n",
      " 1   x5_627 to 710_0       15237 non-null  uint8\n",
      " 2   x5_710 to 718_0       15237 non-null  uint8\n",
      " 3   x5_718 to 729_1       15237 non-null  uint8\n",
      " 4   x5_729 to 733_0       15237 non-null  uint8\n",
      " 5   x5_733 to 754_0       15237 non-null  uint8\n",
      " 6   x5_754 to 1E15_0      15237 non-null  uint8\n",
      " 7   x10_-1E15 to -8400_0  15237 non-null  uint8\n",
      " 8   x10_-2100 to 150_0    15237 non-null  uint8\n",
      " 9   x10_-8400 to -2100_0  15237 non-null  uint8\n",
      " 10  x10_150 to 1E15_0     15237 non-null  uint8\n",
      " 11  x1_-1E15 to 10000_0   15237 non-null  uint8\n",
      " 12  x1_10000 to 15000_0   15237 non-null  uint8\n",
      " 13  x1_15000 to 30000_0   15237 non-null  uint8\n",
      " 14  x1_30000 to 60000_0   15237 non-null  uint8\n",
      " 15  x1_60000 to 1E15_0    15237 non-null  uint8\n",
      " 16  x2_-1E15 to 0.05_0    15237 non-null  uint8\n",
      " 17  x2_0.05 to 0.1_0      15237 non-null  uint8\n",
      " 18  x2_0.1 to 0.2_0       15237 non-null  uint8\n",
      " 19  x2_0.2 to 0.35_0      15237 non-null  uint8\n",
      " 20  x2_0.35 to 0.7_1      15237 non-null  uint8\n",
      " 21  x2_0.7 to 0.9_0       15237 non-null  uint8\n",
      " 22  x2_0.9 to 1E15_0      15237 non-null  uint8\n",
      " 23  x9_-1E15 to 1_0       15237 non-null  uint8\n",
      " 24  x9_1 to 1E15_0        15237 non-null  uint8\n",
      " 25  x3_-1E15 to 30_0      15237 non-null  uint8\n",
      " 26  x3_30 to 50_0         15237 non-null  uint8\n",
      " 27  x3_50 to 75_0         15237 non-null  uint8\n",
      " 28  x3_75 to 80_0         15237 non-null  uint8\n",
      " 29  x3_80 to 1E15_1       15237 non-null  uint8\n",
      " 30  x11_-1E15 to 1_1      15237 non-null  uint8\n",
      " 31  x11_1 to 1E15_0       15237 non-null  uint8\n",
      " 32  x4_-1E15 to 111_1     15237 non-null  uint8\n",
      " 33  x4_111 to 195_0       15237 non-null  uint8\n",
      " 34  x4_195 to 1E15_0      15237 non-null  uint8\n",
      "dtypes: uint8(35)\n",
      "memory usage: 639.8 KB\n"
     ]
    }
   ],
   "source": [
    "dummies_train.info()"
   ]
  },
  {
   "cell_type": "code",
   "execution_count": 9,
   "id": "cb47fb1c",
   "metadata": {},
   "outputs": [],
   "source": [
    "X_numerical_train = df_train.drop(['x14', 'x5', 'x10', 'x1', 'x2', 'x9', 'x3', 'x11', 'x4', 'POPULATION'], axis=1).astype('float64')\n",
    "X_numerical_test = df_test.drop(['x14', 'x5', 'x10', 'x1', 'x2', 'x9', 'x3', 'x11', 'x4', 'POPULATION'], axis=1).astype('float64')"
   ]
  },
  {
   "cell_type": "code",
   "execution_count": 10,
   "id": "e6b26383",
   "metadata": {},
   "outputs": [],
   "source": [
    "dummies_train_2 = dummies_train.drop(['x5_754 to 1E15_0','x10_150 to 1E15_0', 'x1_60000 to 1E15_0', \n",
    "                               'x2_0.9 to 1E15_0','x9_1 to 1E15_0', 'x3_80 to 1E15_1',\n",
    "                               'x11_1 to 1E15_0','x4_195 to 1E15_0'], axis=1)\n",
    "dummies_test_2 = dummies_test.drop(['x5_754 to 1E15_0','x10_150 to 1E15_0', 'x1_60000 to 1E15_0', \n",
    "                               'x2_0.9 to 1E15_0','x9_1 to 1E15_0', 'x3_80 to 1E15_1',\n",
    "                               'x11_1 to 1E15_0','x4_195 to 1E15_0'], axis=1)"
   ]
  },
  {
   "cell_type": "markdown",
   "id": "0365ac82",
   "metadata": {},
   "source": [
    "## Variables dependientes y Variable independiente"
   ]
  },
  {
   "cell_type": "code",
   "execution_count": 11,
   "id": "07fcfdc5",
   "metadata": {},
   "outputs": [
    {
     "name": "stdout",
     "output_type": "stream",
     "text": [
      "<class 'pandas.core.frame.DataFrame'>\n",
      "Int64Index: 15237 entries, 0 to 22092\n",
      "Data columns (total 31 columns):\n",
      " #   Column                Non-Null Count  Dtype  \n",
      "---  ------                --------------  -----  \n",
      " 0   x6                    15237 non-null  float64\n",
      " 1   x7                    15237 non-null  float64\n",
      " 2   x8                    15237 non-null  float64\n",
      " 3   x12                   15237 non-null  float64\n",
      " 4   x5_-1E15 to 627_0     15237 non-null  uint8  \n",
      " 5   x5_627 to 710_0       15237 non-null  uint8  \n",
      " 6   x5_710 to 718_0       15237 non-null  uint8  \n",
      " 7   x5_718 to 729_1       15237 non-null  uint8  \n",
      " 8   x5_729 to 733_0       15237 non-null  uint8  \n",
      " 9   x5_733 to 754_0       15237 non-null  uint8  \n",
      " 10  x10_-1E15 to -8400_0  15237 non-null  uint8  \n",
      " 11  x10_-2100 to 150_0    15237 non-null  uint8  \n",
      " 12  x10_-8400 to -2100_0  15237 non-null  uint8  \n",
      " 13  x1_-1E15 to 10000_0   15237 non-null  uint8  \n",
      " 14  x1_10000 to 15000_0   15237 non-null  uint8  \n",
      " 15  x1_15000 to 30000_0   15237 non-null  uint8  \n",
      " 16  x1_30000 to 60000_0   15237 non-null  uint8  \n",
      " 17  x2_-1E15 to 0.05_0    15237 non-null  uint8  \n",
      " 18  x2_0.05 to 0.1_0      15237 non-null  uint8  \n",
      " 19  x2_0.1 to 0.2_0       15237 non-null  uint8  \n",
      " 20  x2_0.2 to 0.35_0      15237 non-null  uint8  \n",
      " 21  x2_0.35 to 0.7_1      15237 non-null  uint8  \n",
      " 22  x2_0.7 to 0.9_0       15237 non-null  uint8  \n",
      " 23  x9_-1E15 to 1_0       15237 non-null  uint8  \n",
      " 24  x3_-1E15 to 30_0      15237 non-null  uint8  \n",
      " 25  x3_30 to 50_0         15237 non-null  uint8  \n",
      " 26  x3_50 to 75_0         15237 non-null  uint8  \n",
      " 27  x3_75 to 80_0         15237 non-null  uint8  \n",
      " 28  x11_-1E15 to 1_1      15237 non-null  uint8  \n",
      " 29  x4_-1E15 to 111_1     15237 non-null  uint8  \n",
      " 30  x4_111 to 195_0       15237 non-null  uint8  \n",
      "dtypes: float64(4), uint8(27)\n",
      "memory usage: 997.0 KB\n"
     ]
    }
   ],
   "source": [
    "X_train = pd.concat([X_numerical_train, dummies_train_2], axis=1)\n",
    "X_test = pd.concat([X_numerical_test, dummies_test_2], axis=1)\n",
    "X_train.info()"
   ]
  },
  {
   "cell_type": "code",
   "execution_count": 12,
   "id": "9a6d7334",
   "metadata": {},
   "outputs": [],
   "source": [
    "y_train = df_train[\"x14\"]\n",
    "y_test = df_test[\"x14\"]"
   ]
  },
  {
   "cell_type": "markdown",
   "id": "6f0bbb18",
   "metadata": {},
   "source": [
    "# Gradient Boosting Machine"
   ]
  },
  {
   "cell_type": "code",
   "execution_count": 40,
   "id": "a3f61678",
   "metadata": {},
   "outputs": [],
   "source": [
    "param_grid = {'loss'             : ['squared_error', 'absolute_error'], \n",
    "              'learning_rate'    : [0.1, 0.15, 0.2, 0.25],\n",
    "              'max_depth': [6, 7, 8, 9, 10],\n",
    "              'l2_regularization': [10, 13, 15, 20]\n",
    "             }\n",
    "\n"
   ]
  },
  {
   "cell_type": "code",
   "execution_count": 41,
   "id": "0f4bee35",
   "metadata": {},
   "outputs": [],
   "source": [
    "# Búsqueda por grid search \n",
    "grid = GridSearchCV(\n",
    "        estimator  = HistGradientBoostingRegressor(\n",
    "                        max_iter            = 1000, \n",
    "                        random_state        = 123,\n",
    "                        # Activación de la parada temprana\n",
    "                        early_stopping      = True,\n",
    "                        validation_fraction = 0.1,\n",
    "                        n_iter_no_change    = 10,\n",
    "                        tol                 = 1e-7,\n",
    "                        scoring             = 'loss',\n",
    "                    ),\n",
    "        param_grid = param_grid,\n",
    "        scoring    = 'neg_root_mean_squared_error',\n",
    "        n_jobs     = multiprocessing.cpu_count() - 1,\n",
    "        cv         = RepeatedKFold(n_splits=3, n_repeats=1, random_state=123), \n",
    "        refit      = True,\n",
    "        verbose    = 0,\n",
    "        return_train_score = True\n",
    "       )\n",
    "\n",
    "grid.fit(X = X_train, y = y_train)\n",
    "\n",
    "\n",
    "# Resultados\n",
    "resultados = pd.DataFrame(grid.cv_results_)\n",
    "resultados.filter(regex = '(param.*|mean_t|std_t)') \\\n",
    "    .drop(columns = 'params') \\\n",
    "    .sort_values('mean_test_score', ascending = False) \\\n",
    "    .head(4)\n",
    "\n",
    "#modelo final\n",
    "modelo_final = grid.best_estimator_"
   ]
  },
  {
   "cell_type": "markdown",
   "id": "80ba94a2",
   "metadata": {},
   "source": [
    "# Resultados"
   ]
  },
  {
   "cell_type": "code",
   "execution_count": 42,
   "id": "b14be54b",
   "metadata": {},
   "outputs": [
    {
     "name": "stdout",
     "output_type": "stream",
     "text": [
      "----------------------------------------\n",
      "Mejores hiperparámetros encontrados (cv)\n",
      "----------------------------------------\n",
      "{'l2_regularization': 15, 'learning_rate': 0.2, 'loss': 'squared_error', 'max_depth': 8}\n"
     ]
    }
   ],
   "source": [
    "# Mejores hiperparámetros \n",
    "print(\"----------------------------------------\")\n",
    "print(\"Mejores hiperparámetros encontrados (cv)\")\n",
    "print(\"----------------------------------------\")\n",
    "print(grid.best_params_)"
   ]
  },
  {
   "cell_type": "code",
   "execution_count": 43,
   "id": "cf34275a",
   "metadata": {},
   "outputs": [
    {
     "name": "stdout",
     "output_type": "stream",
     "text": [
      "Número de árboles del modelo: 31\n"
     ]
    }
   ],
   "source": [
    "# Número de árboles del modelo final (early stopping)\n",
    "# ==============================================================================\n",
    "print(f\"Número de árboles del modelo: {grid.best_estimator_.n_iter_}\")"
   ]
  },
  {
   "cell_type": "code",
   "execution_count": 44,
   "id": "e8f956c2",
   "metadata": {},
   "outputs": [
    {
     "name": "stdout",
     "output_type": "stream",
     "text": [
      "Coeficiente de determinación R2 en el conjunto de prueba: 0.08498266145395916\n"
     ]
    }
   ],
   "source": [
    "# Aplicar el modelo al conjunto de prueba\n",
    "y_pred = modelo_final.predict(X_test)\n",
    "\n",
    "# Calcular el coeficiente de determinación R2\n",
    "r2 = r2_score(y_test, y_pred)\n",
    "print(\"Coeficiente de determinación R2 en el conjunto de prueba:\", r2)\n",
    "\n"
   ]
  },
  {
   "cell_type": "code",
   "execution_count": null,
   "id": "1fa1acf6",
   "metadata": {},
   "outputs": [],
   "source": [
    "# Error de test del modelo final\n",
    "predicciones = modelo_final.predict(X=X_test)\n",
    "rmse = mean_squared_error(\n",
    "        y_true  = y_test,\n",
    "        y_pred  = predicciones,\n",
    "       )\n",
    "print(f\"El error (rmse) de test es: {rmse}\")"
   ]
  },
  {
   "cell_type": "code",
   "execution_count": null,
   "id": "deb89c35",
   "metadata": {},
   "outputs": [],
   "source": [
    "# Importancia de los predictores basada en permutación\n",
    "importancia = permutation_importance(\n",
    "                estimator    = modelo_final,\n",
    "                X            = X_train,\n",
    "                y            = y_train,\n",
    "                n_repeats    = 5,\n",
    "                scoring      = 'neg_root_mean_squared_error',\n",
    "                n_jobs       = multiprocessing.cpu_count() - 1,\n",
    "                random_state = 123\n",
    "             )\n",
    "\n",
    "# Se almacenan los resultados (media y desviación) en un dataframe\n",
    "df_importancia = pd.DataFrame(\n",
    "                    {k: importancia[k] for k in ['importances_mean', 'importances_std']}\n",
    "                 )\n",
    "df_importancia['feature'] = X_train.columns\n",
    "df_importancia.sort_values('importances_mean', ascending=False)"
   ]
  },
  {
   "cell_type": "code",
   "execution_count": null,
   "id": "366b86d1",
   "metadata": {},
   "outputs": [],
   "source": [
    "# Gráfico de la importancia de cada predictor\n",
    "fig, ax = plt.subplots(figsize=(7, 7))\n",
    "df_importancia = df_importancia.sort_values('importances_mean', ascending=True)\n",
    "ax.barh(\n",
    "    df_importancia['feature'],\n",
    "    df_importancia['importances_mean'],\n",
    "    xerr=df_importancia['importances_std'],\n",
    "    align='center',\n",
    "    alpha=0\n",
    ")\n",
    "ax.plot(\n",
    "    df_importancia['importances_mean'],\n",
    "    df_importancia['feature'],\n",
    "    marker=\"D\",\n",
    "    linestyle=\"\",\n",
    "    alpha=0.8,\n",
    "    color=\"r\"\n",
    ")\n",
    "ax.set_title('Importancia de los predictores (train)')\n",
    "ax.set_xlabel('Incremento del error tras la permutación')\n",
    "\n"
   ]
  },
  {
   "cell_type": "code",
   "execution_count": null,
   "id": "78c67e26",
   "metadata": {},
   "outputs": [],
   "source": []
  }
 ],
 "metadata": {
  "kernelspec": {
   "display_name": "Python 3 (ipykernel)",
   "language": "python",
   "name": "python3"
  },
  "language_info": {
   "codemirror_mode": {
    "name": "ipython",
    "version": 3
   },
   "file_extension": ".py",
   "mimetype": "text/x-python",
   "name": "python",
   "nbconvert_exporter": "python",
   "pygments_lexer": "ipython3",
   "version": "3.9.12"
  }
 },
 "nbformat": 4,
 "nbformat_minor": 5
}
